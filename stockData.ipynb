{
  "cells": [
    {
      "cell_type": "code",
      "execution_count": null,
      "metadata": {
        "colab": {
          "base_uri": "https://localhost:8080/"
        },
        "id": "mKSOp45vlt5E",
        "outputId": "da9bc1b1-87c0-494e-f183-ecab1a636261"
      },
      "outputs": [
        {
          "output_type": "stream",
          "name": "stdout",
          "text": [
            "Looking in indexes: https://pypi.org/simple, https://us-python.pkg.dev/colab-wheels/public/simple/\n",
            "Collecting finnhub-python\n",
            "  Downloading finnhub_python-2.4.16-py3-none-any.whl (11 kB)\n",
            "Requirement already satisfied: requests>=2.22.0 in /usr/local/lib/python3.9/dist-packages (from finnhub-python) (2.27.1)\n",
            "Requirement already satisfied: charset-normalizer~=2.0.0 in /usr/local/lib/python3.9/dist-packages (from requests>=2.22.0->finnhub-python) (2.0.12)\n",
            "Requirement already satisfied: urllib3<1.27,>=1.21.1 in /usr/local/lib/python3.9/dist-packages (from requests>=2.22.0->finnhub-python) (1.26.15)\n",
            "Requirement already satisfied: certifi>=2017.4.17 in /usr/local/lib/python3.9/dist-packages (from requests>=2.22.0->finnhub-python) (2022.12.7)\n",
            "Requirement already satisfied: idna<4,>=2.5 in /usr/local/lib/python3.9/dist-packages (from requests>=2.22.0->finnhub-python) (3.4)\n",
            "Installing collected packages: finnhub-python\n",
            "Successfully installed finnhub-python-2.4.16\n",
            "Looking in indexes: https://pypi.org/simple, https://us-python.pkg.dev/colab-wheels/public/simple/\n",
            "Collecting discord\n",
            "  Downloading discord-2.2.2-py3-none-any.whl (1.1 kB)\n",
            "Collecting discord.py>=2.2.2\n",
            "  Downloading discord.py-2.2.2-py3-none-any.whl (1.1 MB)\n",
            "\u001b[2K     \u001b[90m━━━━━━━━━━━━━━━━━━━━━━━━━━━━━━━━━━━━━━━━\u001b[0m \u001b[32m1.1/1.1 MB\u001b[0m \u001b[31m10.0 MB/s\u001b[0m eta \u001b[36m0:00:00\u001b[0m\n",
            "\u001b[?25hCollecting aiohttp<4,>=3.7.4\n",
            "  Downloading aiohttp-3.8.4-cp39-cp39-manylinux_2_17_x86_64.manylinux2014_x86_64.whl (1.0 MB)\n",
            "\u001b[2K     \u001b[90m━━━━━━━━━━━━━━━━━━━━━━━━━━━━━━━━━━━━━━━━\u001b[0m \u001b[32m1.0/1.0 MB\u001b[0m \u001b[31m14.8 MB/s\u001b[0m eta \u001b[36m0:00:00\u001b[0m\n",
            "\u001b[?25hCollecting frozenlist>=1.1.1\n",
            "  Downloading frozenlist-1.3.3-cp39-cp39-manylinux_2_5_x86_64.manylinux1_x86_64.manylinux_2_17_x86_64.manylinux2014_x86_64.whl (158 kB)\n",
            "\u001b[2K     \u001b[90m━━━━━━━━━━━━━━━━━━━━━━━━━━━━━━━━━━━━━━━\u001b[0m \u001b[32m158.8/158.8 KB\u001b[0m \u001b[31m3.8 MB/s\u001b[0m eta \u001b[36m0:00:00\u001b[0m\n",
            "\u001b[?25hCollecting async-timeout<5.0,>=4.0.0a3\n",
            "  Downloading async_timeout-4.0.2-py3-none-any.whl (5.8 kB)\n",
            "Collecting yarl<2.0,>=1.0\n",
            "  Downloading yarl-1.8.2-cp39-cp39-manylinux_2_17_x86_64.manylinux2014_x86_64.whl (264 kB)\n",
            "\u001b[2K     \u001b[90m━━━━━━━━━━━━━━━━━━━━━━━━━━━━━━━━━━━━━━━\u001b[0m \u001b[32m264.6/264.6 KB\u001b[0m \u001b[31m8.5 MB/s\u001b[0m eta \u001b[36m0:00:00\u001b[0m\n",
            "\u001b[?25hRequirement already satisfied: charset-normalizer<4.0,>=2.0 in /usr/local/lib/python3.9/dist-packages (from aiohttp<4,>=3.7.4->discord.py>=2.2.2->discord) (2.0.12)\n",
            "Requirement already satisfied: attrs>=17.3.0 in /usr/local/lib/python3.9/dist-packages (from aiohttp<4,>=3.7.4->discord.py>=2.2.2->discord) (22.2.0)\n",
            "Collecting aiosignal>=1.1.2\n",
            "  Downloading aiosignal-1.3.1-py3-none-any.whl (7.6 kB)\n",
            "Collecting multidict<7.0,>=4.5\n",
            "  Downloading multidict-6.0.4-cp39-cp39-manylinux_2_17_x86_64.manylinux2014_x86_64.whl (114 kB)\n",
            "\u001b[2K     \u001b[90m━━━━━━━━━━━━━━━━━━━━━━━━━━━━━━━━━━━━━━━\u001b[0m \u001b[32m114.2/114.2 KB\u001b[0m \u001b[31m3.8 MB/s\u001b[0m eta \u001b[36m0:00:00\u001b[0m\n",
            "\u001b[?25hRequirement already satisfied: idna>=2.0 in /usr/local/lib/python3.9/dist-packages (from yarl<2.0,>=1.0->aiohttp<4,>=3.7.4->discord.py>=2.2.2->discord) (3.4)\n",
            "Installing collected packages: multidict, frozenlist, async-timeout, yarl, aiosignal, aiohttp, discord.py, discord\n",
            "Successfully installed aiohttp-3.8.4 aiosignal-1.3.1 async-timeout-4.0.2 discord-2.2.2 discord.py-2.2.2 frozenlist-1.3.3 multidict-6.0.4 yarl-1.8.2\n"
          ]
        }
      ],
      "source": [
        "!pip install finnhub-python\n",
        "!pip install discord"
      ]
    },
    {
      "cell_type": "markdown",
      "metadata": {
        "id": "tYawchIBpDaW"
      },
      "source": [
        "# IMPORTS"
      ]
    },
    {
      "cell_type": "code",
      "execution_count": null,
      "metadata": {
        "id": "cwbHPZlNk7l4"
      },
      "outputs": [],
      "source": [
        "import finnhub\n",
        "import pandas as pd\n",
        "import requests\n",
        "from bs4 import BeautifulSoup\n",
        "import re\n",
        "import pandas as pd \n",
        "#from google.colab import files\n",
        "from google.colab import drive\n",
        "import csv \n",
        "import json\n",
        "import math\n",
        "from discord import Webhook#, RequestsWebhookAdapter\n",
        "import sched, time\n",
        "#import zipfile"
      ]
    },
    {
      "cell_type": "markdown",
      "metadata": {
        "id": "0UP_-guMi46K"
      },
      "source": [
        "# DATA COLLECTION FUNCTIONS"
      ]
    },
    {
      "cell_type": "code",
      "execution_count": null,
      "metadata": {
        "id": "A1NsGaY4qmZx"
      },
      "outputs": [],
      "source": [
        "### Scrapes the current UNIX code\n",
        "### DEPRECATED\n",
        "'''\n",
        "ERROR:\n",
        "  When this is run repeatedly, the source website will eventually flag it. \n",
        "  Find a way to get the current unix without scraping. \n",
        "'''\n",
        "def get_todays_unix():\n",
        "  url = 'https://www.unixtimestamp.com/index.php'\n",
        "  r = requests.get(url)\n",
        "  soup = BeautifulSoup(r.content, 'html.parser')\n",
        "  content = soup.find('div', class_='value epoch')\n",
        "  content = re.sub('\\s+', '', content.text)\n",
        "  return int(content)"
      ]
    },
    {
      "cell_type": "code",
      "execution_count": null,
      "metadata": {
        "id": "aIg5HivDiico"
      },
      "outputs": [],
      "source": [
        "def addSMA(close,length_of_comparison):\n",
        "  result = []\n",
        "  prices = close[::-1]\n",
        "  for x in range(len(prices)):\n",
        "    sma = 0\n",
        "    if x + length_of_comparison <= len(close):\n",
        "      for u in prices[x:x+length_of_comparison]:\n",
        "        sma += u \n",
        "      sma /= length_of_comparison \n",
        "      result.append(sma)\n",
        "    else:\n",
        "      result.append(0)\n",
        "  return result[::-1]"
      ]
    },
    {
      "cell_type": "code",
      "execution_count": null,
      "metadata": {
        "id": "GaQwBSVvxbqm"
      },
      "outputs": [],
      "source": [
        "### ORIGINAL FORMULA\n",
        "def addRSI(close,length_of_comparison):\n",
        "  result = []\n",
        "  prices = close[::-1]\n",
        "  for x in range(len(prices)):\n",
        "    if x + length_of_comparison + 1 <= len(prices):\n",
        "      up = 1 \n",
        "      down = 1 \n",
        "      for u in range(x,x+length_of_comparison):\n",
        "        change = prices[u] - prices[u+1] \n",
        "        a = 1 / length_of_comparison\n",
        "        if change > 0:\n",
        "          avU = (a * change) + (1-a)\n",
        "          up *= avU \n",
        "        if change < 0:\n",
        "          avD = (a * abs(change)) + (1-a)\n",
        "          down *= avD\n",
        "      #up /= length_of_comparison \n",
        "      #down /= length_of_comparison\n",
        "      rs = up/down\n",
        "      rsi = 100 - (100/(1+rs))\n",
        "      result.append(rsi)\n",
        "    else:\n",
        "      result.append(0)\n",
        "  return result[::-1]"
      ]
    },
    {
      "cell_type": "code",
      "execution_count": null,
      "metadata": {
        "id": "JOPOALFaHORm"
      },
      "outputs": [],
      "source": [
        "### Adds SMA 20 - 200 Crosses\n",
        "def add_crosses(sma20,sma200):\n",
        "  result = []\n",
        "  for x in range(len(sma20)):\n",
        "    if sma20[x] > sma200[x]:\n",
        "      result.append('golden cross')\n",
        "    elif sma20[x] < sma200[x]:\n",
        "      result.append('death cross')\n",
        "    if sma20[x] == sma200[x]:\n",
        "      result.append('')\n",
        "  return result"
      ]
    },
    {
      "cell_type": "code",
      "execution_count": null,
      "metadata": {
        "id": "bHwKAOxRKTtT"
      },
      "outputs": [],
      "source": [
        "### Adds highs and lows of specified time period \n",
        "### Input data in reverse order \n",
        "def addPriceRange(highs,lows,timeperiod):\n",
        "  result = []\n",
        "  high_list = []\n",
        "  low_list = []\n",
        "  period = timeperiod\n",
        "  for x in range(len(highs)):\n",
        "    high = highs[x]\n",
        "    low = lows[x]\n",
        "    for y in highs[x:x+period]:\n",
        "      if y > high:\n",
        "        high = y \n",
        "    high_list.append(high)\n",
        "    for u in lows[x:x+period]:\n",
        "      if u < low:\n",
        "        low = u\n",
        "    low_list.append(low)\n",
        "  result.append(high_list[::-1])\n",
        "  result.append(low_list[::-1])\n",
        "  return result\n",
        "    "
      ]
    },
    {
      "cell_type": "code",
      "execution_count": null,
      "metadata": {
        "id": "W4xZptwBUBuX"
      },
      "outputs": [],
      "source": [
        "### Find the price range score --> Returns a percentage value of how far the along the price range the current price is on the excel sheet\n",
        "#### (0-1 Scale--> 0= low, 1=high)\n",
        "def addPriceRangeScore(highs,lows,close):\n",
        "  result = []\n",
        "  for x in range(len(highs)):\n",
        "    range52 = highs[x] - lows[x]\n",
        "    numerator = close[x] - lows[x]\n",
        "    if range52 > 0:\n",
        "      score = numerator / range52\n",
        "    else:\n",
        "      score = 100\n",
        "    result.append(score)\n",
        "  return result"
      ]
    },
    {
      "cell_type": "code",
      "execution_count": null,
      "metadata": {
        "id": "9JuteVOIyoVa"
      },
      "outputs": [],
      "source": [
        "### Adds a ratio of the difference between todays high and low prices and the high and low difference average of a specified time frame\n",
        "def addMarketSpreadRatio(highs,lows,length_of_comparison):\n",
        "  final = []\n",
        "  high10 = highs[::-1]\n",
        "  low10 = lows[::-1]\n",
        "  for x in range(len(high10)):\n",
        "    range10 = high10[x] - low10[x]\n",
        "    av_range = 0\n",
        "    if x+length_of_comparison <= len(high10):\n",
        "      for u in range(x,x+length_of_comparison):\n",
        "        next_range = high10[u] - low10[u]\n",
        "        av_range += next_range \n",
        "      av_range /= length_of_comparison\n",
        "      result = range10 / av_range \n",
        "      final.append(result)\n",
        "    else:\n",
        "      final.append(0)\n",
        "  return final[::-1]"
      ]
    },
    {
      "cell_type": "code",
      "execution_count": null,
      "metadata": {
        "id": "P8WWsFMoN4Jf"
      },
      "outputs": [],
      "source": [
        "### Adds relative volume over a specified time frame\n",
        "def addRelVol(volume,length_of_comparison):\n",
        "  vol = volume[::-1]\n",
        "  result = []\n",
        "  for x in range(len(vol)):\n",
        "    currentVol = vol[x]\n",
        "    avVol = 0\n",
        "    if x+length_of_comparison <= len(vol):\n",
        "      for u in range(x,x+length_of_comparison):\n",
        "        avVol += vol[u]\n",
        "      avVol /= length_of_comparison \n",
        "      relVol = currentVol / avVol \n",
        "      result.append(relVol)\n",
        "    else:\n",
        "      result.append(0)\n",
        "  return result[::-1]"
      ]
    },
    {
      "cell_type": "markdown",
      "metadata": {
        "id": "e45i1owQtpgj"
      },
      "source": [
        "# COMPILE POLYGON.IO DATA "
      ]
    },
    {
      "cell_type": "code",
      "execution_count": null,
      "metadata": {
        "id": "AEwp7OQety5M"
      },
      "outputs": [],
      "source": [
        "# returns data in reverse\n",
        "def getPolygonData(tickers,start,end,timespan):\n",
        "  ### start and end should be dates formatted as such: 2020-06-23\n",
        "  apiKey = '<Key Here>'\n",
        "  result = []\n",
        "  t = []\n",
        "  o = []\n",
        "  h = []\n",
        "  l = []\n",
        "  c = []\n",
        "  v = []\n",
        "  sma20 = []\n",
        "  sma200 = []\n",
        "  for name in tickers:\n",
        "    url = f'https://api.polygon.io/v2/aggs/ticker/{name}/range/1/{timespan}/{start}/{end}?apiKey={apiKey}'\n",
        "    form = requests.get(url)\n",
        "    data = form.content\n",
        "    dataDict = json.loads(data).get('results')\n",
        "    for entry in dataDict:\n",
        "      t.append(entry.get('t'))\n",
        "      o.append(entry.get('o'))\n",
        "      h.append(entry.get('h'))\n",
        "      l.append(entry.get('l'))\n",
        "      c.append(entry.get('c'))\n",
        "      v.append(entry.get('v'))\n",
        "    rsi = addRSI(c,20)\n",
        "    av20 = addSMA(c,20)\n",
        "    av200 = addSMA(c,200)\n",
        "    cross = add_crosses(av20,av200)\n",
        "    high52 = addPriceRange(h[::-1],l[::-1],52)[0]\n",
        "    low52 = addPriceRange(h[::-1],l[::-1],52)[1]\n",
        "    rangescore = addPriceRangeScore(h,l,c)\n",
        "    ###not taking EMA seriously in this data\n",
        "    ema20 = av20 \n",
        "    ema200 = av200\n",
        "    ###\n",
        "    high10 = addPriceRange(h[::-1],l[::-1],10)[0]\n",
        "    low10 = addPriceRange(h[::-1],l[::-1],10)[1]\n",
        "    spreadratio = addMarketSpreadRatio(high10,low10,52)\n",
        "    relvol = addRelVol(v,52)\n",
        "    final = {'t':t,'o':o,'h':h,'l':l,'c':c,'v':v,'rsi':rsi,'sma20':av20,'sma200':av200,\n",
        "             'cross':cross, '52wkHigh':high52, '52wkLow':low52, 'rangescore':rangescore,'ema20':ema20,\n",
        "             'ema200':ema200, '10dayHigh':high10, '10dayLow':low10, 'spreadRatio':spreadratio, 'relVol':relvol}\n",
        "    stock = [final,name]\n",
        "    result.append(stock)\n",
        "  return result"
      ]
    },
    {
      "cell_type": "markdown",
      "metadata": {
        "id": "OlcwCFzPq5k8"
      },
      "source": [
        "# COMPILE FINNHUB DATA "
      ]
    },
    {
      "cell_type": "code",
      "execution_count": null,
      "metadata": {
        "id": "ceEe8BJZGgEf"
      },
      "outputs": [],
      "source": [
        "### Scrapes financial data\n",
        "#Returns List containing list of dictionaries \n",
        "# returns data in reverse\n",
        "def getFinnhubData(user):\n",
        "  #ARG user: list of tickers\n",
        "  key= '<Key Here>'\n",
        "  client = finnhub.Client(api_key=key)\n",
        "  tickers = user\n",
        "  result = []\n",
        "  secperday = 86400\n",
        "  today = int(time.time())\n",
        "  av300 = int(today - 25920000)\n",
        "  for i in tickers:\n",
        "    stock = []\n",
        "    data = client.technical_indicator(i,'D',av300, today, indicator='rsi', indicator_fields={\"timeperiod\":14})\n",
        "    sma20 = client.technical_indicator(i,'D',av300, today, indicator='sma', indicator_fields={\"timeperiod\":20})\n",
        "    sma200 = client.technical_indicator(i,'D',av300, today, indicator='sma', indicator_fields={\"timeperiod\":200})\n",
        "    ema20 = client.technical_indicator(i,'D',av300, today, indicator='ema', indicator_fields={\"timeperiod\":20})\n",
        "    ema200 = client.technical_indicator(i,'D',av300, today, indicator='ema', indicator_fields={\"timeperiod\":200})\n",
        "    adx = client.technical_indicator(i,'D', av300, today, indicator='adx', indicator_fields={\"timeperiod\":20})\n",
        "    data['sma20'] = sma20.get('sma')\n",
        "    data['sma200'] = sma200.get('sma')\n",
        "    data['cross'] = add_crosses(data['sma20'],data['sma200'])\n",
        "    data['52wkHigh'] = addPriceRange(data['h'][::-1],data['l'][::-1],52)[0]\n",
        "    data['52wkLow'] = addPriceRange(data['h'][::-1],data['l'][::-1],52)[1]\n",
        "    data['rangescore'] = addPriceRangeScore(data['52wkHigh'],data['52wkLow'],data['c'])\n",
        "    data['ema20'] = ema20.get('ema')\n",
        "    data['ema200'] = ema200.get('ema')\n",
        "    data['10dayHigh'] = addPriceRange(data['h'][::-1],data['l'][::-1],10)[0]\n",
        "    data['10dayLow'] = addPriceRange(data['h'][::-1],data['l'][::-1],10)[1]\n",
        "    data['spreadRatio'] = addMarketSpreadRatio(data['10dayHigh'],data['10dayLow'],52)\n",
        "    data['relVol'] = addRelVol(data['v'],52)\n",
        "    data['adx'] = adx.get('adx')\n",
        "    stock.append(data)\n",
        "    stock.append(i)\n",
        "    result.append(stock)\n",
        "  return result"
      ]
    },
    {
      "cell_type": "markdown",
      "metadata": {
        "id": "grGrnx-Fym_Y"
      },
      "source": [
        "# DOWNLOAD AND FORMAT DATA\n"
      ]
    },
    {
      "cell_type": "code",
      "execution_count": null,
      "metadata": {
        "id": "Zylvhi0sixVY"
      },
      "outputs": [],
      "source": [
        "### Downloads a CSV File Containing Scraped Stock data\n",
        "def assembleCSV(stock_data):\n",
        "  drive.mount('/content/drive')\n",
        "  path = '/content/drive/My Drive/output.csv'\n",
        "  for i in stock_data:\n",
        "    for y in range(len(i)-1):\n",
        "      name = i[-1]\n",
        "      time = i[y].get('t')\n",
        "      open = i[y].get('o')\n",
        "      high = i[y].get('h')\n",
        "      low = i[y].get('l')\n",
        "      close = i[y].get('c')\n",
        "      volume = i[y].get('v')\n",
        "      rsi = i[y].get('rsi')\n",
        "      sma20 = i[y].get('sma20')\n",
        "      sma200 = i[y].get('sma200')\n",
        "      rate = i[y].get('cross')\n",
        "      high52 = i[y].get('52wkHigh')\n",
        "      low52 = i[y].get('52wkLow')\n",
        "      rangescore = i[y].get('rangescore')\n",
        "      ema20 = i[y].get('ema20')\n",
        "      ema200 = i[y].get('ema200')\n",
        "      high10 = i[y].get('10dayHigh')\n",
        "      low10 = i[y].get('10dayLow')\n",
        "      spreadRatio = i[y].get('spreadRatio')\n",
        "      avVol = i[y].get('relVol')\n",
        "      adx = i[y].get('adx')\n",
        "      data = {'T':time[::-1],'O':open[::-1],'H':high[::-1],\n",
        "              'L':low[::-1],'C':close[::-1],'V':volume[::-1],\n",
        "              'RSI':rsi[::-1],'SMA20':sma20[::-1],'SMA200':sma200[::-1],\n",
        "              'Rate':rate[::-1],'52wkHigh':high52[::-1],'52wkLow':low52[::-1],\n",
        "              'RangeScore':rangescore[::-1],'EMA20':ema20[::-1],'EMA200':ema200[::-1],\n",
        "              '10DayHigh':high10[::-1],'10DayLow':low10[::-1],\n",
        "              'SpreadRatio':spreadRatio[::-1],'RelVol':avVol[::-1], 'ADX':adx[::-1]}\n",
        "      df = pd.DataFrame(data)\n",
        "      df = df.set_index('T')\n",
        "      filename = name + 'stockData.csv'\n",
        "      df.to_csv(filename)\n",
        "      #files.download(filename)"
      ]
    },
    {
      "cell_type": "markdown",
      "metadata": {
        "id": "apebX3aYqlLC"
      },
      "source": [
        "# Indicator Analysis Functions"
      ]
    },
    {
      "cell_type": "code",
      "execution_count": null,
      "metadata": {
        "id": "YI2EJQ5k8eVq"
      },
      "outputs": [],
      "source": [
        "### Shows the accuracy of crosses as indicators (death cross goes down, golden cross goes up)\n",
        "#RESULT FORMAT : [DEATH CROSS ACCURACY PERCENTAGE , GOLDEN CROSS ACCURACY PERCENTAGE , DEATH CROSS DIFFERENCE PERCENTAGE , GOLD CROSS DIFFERENCE PERCENTAGE]\n",
        "def check_cross_accuracy(length_of_comparison,tickers):\n",
        "  final = []\n",
        "  for name in tickers:\n",
        "    death_cross = 0\n",
        "    golden_cross = 0\n",
        "    gold_accurate = 0\n",
        "    death_accurate = 0\n",
        "    death_difference_percentage = 0\n",
        "    gold_difference_percentage = 0\n",
        "    filename = name + 'stockData.csv'\n",
        "    df = pd.read_csv(filename)\n",
        "    for x in range(len(df.values)):\n",
        "      if x-length_of_comparison >= 0:\n",
        "        try:\n",
        "          indicator = df.values[x][9]\n",
        "          today_av = (df.values[x][1] + df.values[x][2] + df.values[x][3] + df.values[x][4]) /4\n",
        "          tomorrow_av = (df.values[x-length_of_comparison][1] + df.values[x-length_of_comparison][2] + df.values[x-length_of_comparison][3] + df.values[x-length_of_comparison][4]) /4\n",
        "          if indicator == 'golden cross':\n",
        "            golden_cross += 1\n",
        "            difference_percentage = (tomorrow_av - today_av) / today_av\n",
        "            gold_difference_percentage += difference_percentage\n",
        "            if today_av < tomorrow_av:\n",
        "              gold_accurate += 1\n",
        "          elif indicator == 'death cross':\n",
        "            death_cross += 1\n",
        "            difference_percentage = (tomorrow_av - today_av) / today_av\n",
        "            death_difference_percentage += difference_percentage\n",
        "            if today_av > tomorrow_av:\n",
        "              death_accurate += 1\n",
        "        except IndexError:\n",
        "          continue\n",
        "    death_score = death_accurate / death_cross\n",
        "    gold_score = gold_accurate / golden_cross\n",
        "    death_difference_percentage /= death_cross\n",
        "    gold_difference_percentage /= golden_cross\n",
        "    result = [death_score, gold_score, death_difference_percentage, gold_difference_percentage]\n",
        "    final.append(result)\n",
        "  return final"
      ]
    },
    {
      "cell_type": "code",
      "execution_count": null,
      "metadata": {
        "id": "PeCQmcv8JuoE"
      },
      "outputs": [],
      "source": [
        "### Shows the accuracy of RSI as an indicator (Oversold: price goes up, undersold: price goes down)\n",
        "#RESULT FORMAT : [OVERSOLD ACCURACY PERCENTAGE , OVERBOUGHT ACCURACY PERCENTAGE , OVERSOLD AVERAGE DIFFERENCE PERCENTAGE , OVERBOUGHT AVERAGE DIFFERENCE PERCENTAGE]\n",
        "def check_RSI(length_of_comparison,tickers):\n",
        "  final = []\n",
        "  for name in tickers:\n",
        "    oversold = 0\n",
        "    overbought = 0  \n",
        "    sold_correct = 0\n",
        "    bought_correct = 0\n",
        "    bought_av_dif = 0\n",
        "    sold_av_dif = 0\n",
        "    filename = name + 'stockData.csv'\n",
        "    df = pd.read_csv(filename)\n",
        "    for x in range(len(df.values)):\n",
        "      if x-length_of_comparison >= 0:\n",
        "        try:\n",
        "          indicator = df.values[x][6]\n",
        "          today_av = (df.values[x][1] + df.values[x][2] + df.values[x][3] + df.values[x][4]) /4\n",
        "          tomorrow_av = (df.values[x-length_of_comparison][1] + df.values[x-length_of_comparison][2] + df.values[x-length_of_comparison][3] + df.values[x-length_of_comparison][4]) /4\n",
        "          if indicator > 60:\n",
        "            overbought += 1\n",
        "            difference_percent = (tomorrow_av - today_av)/today_av\n",
        "            bought_av_dif += difference_percent\n",
        "            if today_av > tomorrow_av:\n",
        "              bought_correct += 1\n",
        "          elif indicator < 30:\n",
        "            oversold += 1\n",
        "            difference_percent = (tomorrow_av - today_av) / today_av\n",
        "            sold_av_dif += difference_percent\n",
        "            if today_av < tomorrow_av:\n",
        "              sold_correct += 1\n",
        "        except IndexError:\n",
        "          continue\n",
        "    bought_av_dif /= overbought \n",
        "    sold_av_dif /= oversold\n",
        "    bought_av_dif *= 100\n",
        "    sold_av_dif *= 100\n",
        "    sold_score = sold_correct / oversold \n",
        "    bought_score = bought_correct / overbought \n",
        "    result = [sold_score, bought_score, sold_av_dif, bought_av_dif]\n",
        "    final.append(result)\n",
        "  return final"
      ]
    },
    {
      "cell_type": "code",
      "execution_count": null,
      "metadata": {
        "id": "hYx3YZ5fpoHO"
      },
      "outputs": [],
      "source": [
        "### Checks the accuracy of the Price Range Score as an indicator over a specified period of time \n",
        "### Score < 0.3 = oversold , score > o.7 = overbought\n",
        "def checkPriceRangeScoreAccuracy(length_of_comparison,tickers):\n",
        "  final = []\n",
        "  for name in tickers:\n",
        "    filename = name + 'stockData.csv'\n",
        "    df = pd.read_csv(filename)\n",
        "    high_correct = 0\n",
        "    low_correct = 0 \n",
        "    high_total = 0 \n",
        "    low_total = 0\n",
        "    for x in range(len(df.values)):\n",
        "      if x-length_of_comparison >= 0:\n",
        "        try:\n",
        "          today_price = df.values[x][4]\n",
        "          next_price = df.values[x - length_of_comparison][4]\n",
        "          indicator = df.values[x][12]\n",
        "          if indicator < 0.3:\n",
        "            low_total += 1\n",
        "            if today_price < next_price:\n",
        "              low_correct += 1\n",
        "          elif indicator > 0.7:\n",
        "            high_total += 1\n",
        "            if today_price > next_price:\n",
        "              high_correct += 1\n",
        "        except IndexError:\n",
        "          continue\n",
        "    low_ratio = low_correct / low_total \n",
        "    high_ratio = high_correct / high_total\n",
        "    result = [low_ratio, high_ratio]\n",
        "    final.append(result)\n",
        "  return final"
      ]
    },
    {
      "cell_type": "markdown",
      "metadata": {
        "id": "9O-Q6W5lqXmC"
      },
      "source": [
        "# ALGORITHM"
      ]
    },
    {
      "cell_type": "code",
      "execution_count": null,
      "metadata": {
        "id": "mGJE50aYolrM"
      },
      "outputs": [],
      "source": [
        "### Build algo here\n",
        "### -50% stop loss\n",
        "### One more indicator necessary\n",
        "def algoStructure(length_of_comparison,tickers,cross_symbol,rsiScore,range_Score,adxScore):\n",
        "  result = []\n",
        "  for name in tickers:\n",
        "    filename = name + 'stockData.csv'\n",
        "    df = pd.read_csv(filename)\n",
        "    trades = []\n",
        "    for x in range(len(df.values)):\n",
        "      rsi = df.values[x][6]\n",
        "      rangeScore = df.values[x][12]\n",
        "      spread_ratio = df.values[x][17]\n",
        "      cross = df.values[x][9]\n",
        "      adx = df.values[x][19]\n",
        "      relVol = df.values[x][18]\n",
        "      if x-length_of_comparison >= 0:\n",
        "        #print(cross)\n",
        "        if adx >= adxScore:\n",
        "          if cross == cross_symbol:\n",
        "            if rsi <= rsiScore:\n",
        "              if rangeScore <= range_Score:\n",
        "                try:\n",
        "                  buy_price = df.values[x][4]\n",
        "                  sell_price = df.values[x-length_of_comparison][4]\n",
        "                  #STOP LOSS\n",
        "                  for u in range(length_of_comparison+1):\n",
        "                    dif = df.values[x-u][4] - buy_price\n",
        "                    if dif <= (buy_price * -0.3):\n",
        "                      sell_price = df.values[x-u][4]\n",
        "                      #print('Stop Triggered at:',sell_price)\n",
        "                  #\n",
        "                  trade = [buy_price,sell_price,x]\n",
        "                  trades.append(trade)\n",
        "                except IndexError:\n",
        "                  break\n",
        "    if len(trades) > 0:\n",
        "      result.append(trades)\n",
        "  return result"
      ]
    },
    {
      "cell_type": "code",
      "execution_count": null,
      "metadata": {
        "id": "vuhQbmivqAgb"
      },
      "outputs": [],
      "source": [
        "###Automatically decide how many shares of a stock to purchase based on select indicators\n",
        "def adjustLeverage(leverage, adx, rsi, rangeScore, money, buyPrice):\n",
        "  result = int(leverage * ((0.1 * money) / buyPrice))\n",
        "  if adx >= 50:\n",
        "    if rsi <= 25: \n",
        "      if rangeScore <= 0.2: \n",
        "        result = int(leverage * ((0.3 * money) / buyPrice)) \n",
        "  elif adx < 50:\n",
        "    if rsi <= 30: \n",
        "      if rangeScore <= 0.3: \n",
        "        result = int(leverage * ((0.2 * money) / buyPrice))\n",
        "  return result"
      ]
    },
    {
      "cell_type": "code",
      "execution_count": null,
      "metadata": {
        "id": "px1szJ0gOaAn"
      },
      "outputs": [],
      "source": [
        "### Build algo here\n",
        "### -50% stop loss\n",
        "### Same as algo1, however this time it starts with $10,000 instead of infinite\n",
        "def algo2(length_of_comparison,tickers,cross_symbol,rsiScore,range_Score,adxScore):\n",
        "  result = []\n",
        "  money = 20000\n",
        "  for name in tickers:\n",
        "    filename = name + 'stockData.csv'\n",
        "    df = pd.read_csv(filename)\n",
        "    trades = []\n",
        "    for x in range(len(df.values)):\n",
        "      rsi = df.values[x][6]\n",
        "      rangeScore = df.values[x][12]\n",
        "      spread_ratio = df.values[x][17]\n",
        "      cross = df.values[x][9]\n",
        "      adx = df.values[x][19]\n",
        "      relVol = df.values[x][18]\n",
        "      leverage = 1\n",
        "      for u in range(len(trades)):\n",
        "        if x == trades[u][2] + length_of_comparison:\n",
        "          money += trades[u][1]\n",
        "      if x-length_of_comparison >= 0:\n",
        "        if adx >= adxScore:\n",
        "          if cross == cross_symbol:\n",
        "            if rsi <= rsiScore:\n",
        "              if rangeScore <= range_Score:\n",
        "                try:\n",
        "                  buy_price = df.values[x][4]\n",
        "                  sell_price = df.values[x-length_of_comparison][4]\n",
        "                  leverage = adjustLeverage(leverage, adx, rsi, rangeScore, money, buy_price)\n",
        "                  if money >= leverage * buy_price:\n",
        "                    #STOP LOSS\n",
        "                    for z in range(1,length_of_comparison):\n",
        "                      dif = df.values[x-z][4] - buy_price\n",
        "                      if dif <= (buy_price * -0.4):\n",
        "                        sell_price = df.values[x-z][4]\n",
        "                    #\n",
        "                    trade = [leverage*buy_price,leverage*sell_price,x,rsi]\n",
        "                    trades.append(trade)\n",
        "                    money -= trade[0] \n",
        "                  elif money >= 1 * buy_price:\n",
        "                    #STOP LOSS\n",
        "                    for i in range(length_of_comparison):\n",
        "                      dif = df.values[x-i][4] - buy_price\n",
        "                      if dif <= (buy_price * -0.5):\n",
        "                        sell_price = df.values[x-i][4]\n",
        "                        #print('Stop Triggered at:',sell_price)\n",
        "                    #\n",
        "                    trade = [buy_price,sell_price,x,rsi]\n",
        "                    trades.append(trade)\n",
        "                    money -= trade[0] \n",
        "                except IndexError:\n",
        "                  break\n",
        "    if len(trades) > 0:\n",
        "      result.append(trades)\n",
        "  print(f'TOTAL MONEY: {money}')\n",
        "  return result"
      ]
    },
    {
      "cell_type": "code",
      "source": [
        "###Algorithm based purely on RSI\n",
        "###Edit the data function to pull data by the minute\n",
        "#### this algorithm seems to be successful but NEEDS TO RUN BY THE MINUTE\n",
        "\n",
        "def algo3(length_of_comparison, tickers, rsiScore):\n",
        "  result = []\n",
        "  money = 20000\n",
        "  for name in tickers:\n",
        "    filename = name + 'stockData.csv'\n",
        "    df = pd.read_csv(filename)\n",
        "    trades = []\n",
        "    for x in range(len(df.values)):\n",
        "      rsi = df.values[x][6]\n",
        "      leverage = 1\n",
        "      for u in range(len(trades)):\n",
        "        if x == trades[u][2] + length_of_comparison:\n",
        "          money += trades[u][1]\n",
        "      if x-length_of_comparison >= 0:\n",
        "        if rsi <= rsiScore:\n",
        "          try:\n",
        "            buy_price = df.values[x][4]\n",
        "            sell_price = df.values[x-length_of_comparison][4]\n",
        "            if money >= leverage * buy_price:\n",
        "              #STOP LOSS\n",
        "              for z in range(1,length_of_comparison):\n",
        "                dif = df.values[x-z][4] - buy_price\n",
        "                if dif <= (buy_price * -0.4):\n",
        "                  sell_price = df.values[x-z][4]\n",
        "              #\n",
        "              trade = [leverage*buy_price,leverage*sell_price,x,rsi]\n",
        "              trades.append(trade)\n",
        "              money -= trade[0] \n",
        "            elif money >= 1 * buy_price:\n",
        "              #STOP LOSS\n",
        "              for i in range(length_of_comparison):\n",
        "                dif = df.values[x-i][4] - buy_price\n",
        "                if dif <= (buy_price * -0.5):\n",
        "                  sell_price = df.values[x-i][4]\n",
        "                  #print('Stop Triggered at:',sell_price)\n",
        "              #\n",
        "              trade = [buy_price,sell_price,x,rsi]\n",
        "              trades.append(trade)\n",
        "              money -= trade[0] \n",
        "          except IndexError:\n",
        "            break\n",
        "    if len(trades) > 0:\n",
        "      result.append(trades)\n",
        "  print(f'TOTAL MONEY: {money}')\n",
        "  return result"
      ],
      "metadata": {
        "id": "qQDID-kExvsV"
      },
      "execution_count": null,
      "outputs": []
    },
    {
      "cell_type": "markdown",
      "metadata": {
        "id": "eDaZVBy_0I99"
      },
      "source": [
        "# LIVE ALGORITHM"
      ]
    },
    {
      "cell_type": "code",
      "execution_count": null,
      "metadata": {
        "id": "zeXx0fOuxzGU"
      },
      "outputs": [],
      "source": [
        "def send_message(message,url):\n",
        "  webhook = Webhook.from_url(url, adapter=RequestsWebhookAdapter())\n",
        "  webhook.send(message)"
      ]
    },
    {
      "cell_type": "code",
      "execution_count": null,
      "metadata": {
        "id": "j_2lOcX87GiX"
      },
      "outputs": [],
      "source": [
        "###Undocumented\n",
        "###return True if double peak detected, False otherwise\n",
        "### Delta should be a negative number representing the difference ratio between the two peaks\n",
        "def double_peak(prices,timeperiod,delta):\n",
        "  #last price is the most recent\n",
        "  peak1 = 0\n",
        "  peak2 = 0\n",
        "  for x in range(1, timeperiod):\n",
        "    if prices[-x] > peak1:\n",
        "      peak1 = prices[-x]\n",
        "    elif prices[-x] > peak2 and prices[-x] < peak1:\n",
        "      peak2 = prices[-x]\n",
        "  difference = (peak2 - peak1) / peak1 \n",
        "  if difference >= delta:\n",
        "    return True\n",
        "  return False\n",
        "    ###HOW THE FUCK DO I DO THIS --> find two peaks, find the distance between these two peaks, use this  distance to determine the strength of the bearish trend"
      ]
    },
    {
      "cell_type": "code",
      "execution_count": null,
      "metadata": {
        "id": "BtmjHIwU1DJg"
      },
      "outputs": [],
      "source": [
        "### Gets most recent row of data from Finnhub\n",
        "### UPDATE DOCUMENTATION\n",
        "def getLatestRow(user, period, smoothingPeriod, largesmoothingPeriod):\n",
        "  key= 'cc06epiad3idf21ispa0'\n",
        "  client = finnhub.Client(api_key=key)\n",
        "  tickers = user\n",
        "  result = []\n",
        "  secperday = 86400\n",
        "  today = int(time.time())\n",
        "  av300 = today - 25920000\n",
        "  for i in tickers:\n",
        "    stock = []\n",
        "    data = client.technical_indicator(i,period,av300, today, indicator='rsi', indicator_fields={\"timeperiod\":smoothingPeriod})\n",
        "    adx = client.technical_indicator(i,period, av300, today, indicator='adx', indicator_fields={\"timeperiod\":smoothingPeriod})\n",
        "    sma20 = client.technical_indicator(i,period,av300, today, indicator='sma', indicator_fields={\"timeperiod\":smoothingPeriod})\n",
        "    sma200 = client.technical_indicator(i,period,av300, today, indicator='sma', indicator_fields={\"timeperiod\":largesmoothingPeriod})\n",
        "    data['sma20'] = sma20.get('sma')\n",
        "    data['sma200'] = sma200.get('sma')\n",
        "    data['52wkHigh'] = addPriceRange(data['h'][::-1],data['l'][::-1],52)[0]\n",
        "    data['52wkLow'] = addPriceRange(data['h'][::-1],data['l'][::-1],52)[1]\n",
        "    data['rangescore'] = addPriceRangeScore(data['52wkHigh'],data['52wkLow'],data['c'])\n",
        "    data['10dayHigh'] = addPriceRange(data['h'][::-1],data['l'][::-1],10)[0]\n",
        "    data['10dayLow'] = addPriceRange(data['h'][::-1],data['l'][::-1],10)[1]\n",
        "    data['spreadRatio'] = addMarketSpreadRatio(data['10dayHigh'],data['10dayLow'],52)\n",
        "    data['relVol'] = addRelVol(data['v'],52)\n",
        "    data['adx'] = adx.get('adx')\n",
        "    stock.append(data)\n",
        "    stock.append(i)\n",
        "    result.append(stock)\n",
        "  return result"
      ]
    },
    {
      "cell_type": "code",
      "execution_count": null,
      "metadata": {
        "id": "8F483FCJMPtG"
      },
      "outputs": [],
      "source": [
        "### Gets most recent row of data from Finnhub\n",
        "### UPDATE DOCUMENTATION\n",
        "def getLatestRow1(user, period, smoothingPeriod, largesmoothingPeriod):\n",
        "  key= 'cc06epiad3idf21ispa0'\n",
        "  client = finnhub.Client(api_key=key)\n",
        "  tickers = user\n",
        "  result = []\n",
        "  secperday = 86400\n",
        "  today = int(time.time())\n",
        "  av300 = today - 25920000\n",
        "  for i in tickers:\n",
        "    stock = []\n",
        "    data = client.technical_indicator(i,period,av300, today, indicator='rsi', indicator_fields={\"timeperiod\":smoothingPeriod})\n",
        "    data['52wkHigh'] = addPriceRange(data['h'][::-1],data['l'][::-1],52)[0]\n",
        "    data['52wkLow'] = addPriceRange(data['h'][::-1],data['l'][::-1],52)[1]\n",
        "    data['rangescore'] = addPriceRangeScore(data['52wkHigh'],data['52wkLow'],data['c'])\n",
        "    data['10dayHigh'] = addPriceRange(data['h'][::-1],data['l'][::-1],10)[0]\n",
        "    data['10dayLow'] = addPriceRange(data['h'][::-1],data['l'][::-1],10)[1]\n",
        "    data['spreadRatio'] = addMarketSpreadRatio(data['10dayHigh'],data['10dayLow'],52)\n",
        "    data['relVol'] = addRelVol(data['v'],52)\n",
        "    stock.append(data)\n",
        "    stock.append(i)\n",
        "    result.append(stock)\n",
        "  return result"
      ]
    },
    {
      "cell_type": "code",
      "execution_count": null,
      "metadata": {
        "id": "OfvAGeSry5Ca"
      },
      "outputs": [],
      "source": [
        "'''\n",
        "Live version of the algorithm\n",
        "Runs via discord notification\n",
        "Sell security after 10 days of purchase\n",
        "'''\n",
        "def live_algo(tickers,rsiScore,adxScore,rangescore):\n",
        "  url = 'https://discord.com/api/webhooks/1034561225863987220/6cUTwBisxvNmLyA9f_R8OmG44tm48-XFOi7ANeXBXMD6515CFDt7l0t69JoAIykHdT7K'\n",
        "  run = True\n",
        "  trades = []\n",
        "  send_message('BOT IS NOW LIVE', url)\n",
        "  while run:\n",
        "    try:\n",
        "      data = getLatestRow(tickers, 'D', 20, 100)\n",
        "      for x in range(len(data)):\n",
        "        name = data[x][1]\n",
        "        o = data[x][0].get('o')[-1]\n",
        "        h = data[x][0].get('h')[-1]\n",
        "        l = data[x][0].get('l')[-1]\n",
        "        c = data[x][0].get('c')[-1]\n",
        "        rsi = data[x][0].get('rsi')[-1]\n",
        "        adx = data[x][0].get('adx')[-1]\n",
        "        sma20 = data[x][0].get('sma20')[-1]\n",
        "        sma200 = data[x][0].get('sma200')[-1]\n",
        "        rangeScore = data[x][0].get('rangescore')[-1]\n",
        "        if sma20 > sma200:\n",
        "          if adx >= adxScore:\n",
        "            if rsi <= rsiScore:\n",
        "              if rangeScore <= rangescore:\n",
        "                send_message(f'Buy {name}. RSI: {rsi}. ADX: {adx}. STOCHASTIC: {rangeScore}.', url)\n",
        "                stock = ['B',name, c]\n",
        "                trades.append(stock)\n",
        "      time.sleep(120)\n",
        "    except KeyboardInterrupt:\n",
        "      send_message('BOT IS NOW OFF', url)\n",
        "      return trades\n",
        "\n",
        "\n",
        "#tickers = ['AAPL','BAC','KO','CVX','AXP','SPY']\n",
        "tickers = ['SOFI']\n",
        "#live_algo(tickers,40,20,0.29)"
      ]
    },
    {
      "cell_type": "code",
      "execution_count": null,
      "metadata": {
        "id": "psYPifZm2ZM9"
      },
      "outputs": [],
      "source": [
        "### UNCODOCUMENTED\n",
        "'''\n",
        "Live daytrading algorithm\n",
        "Runs off the discord server\n",
        "'''\n",
        "def liveDayTrader(tickers, rsiScore, adxScore, rangescore, sell, stop):\n",
        "  run = True\n",
        "  trades = []\n",
        "  url = 'https://discord.com/api/webhooks/1035201248703557734/JdwtCCc-VwosPn6kZ8H2VvcLKF23PRcK-9AZM-daIm3Bshgoo3yUT8lc4fR8O0EZYdNB'\n",
        "  send_message('BOT IS NOW LIVE', url)\n",
        "  tradeID = 1\n",
        "  while run:\n",
        "    try:\n",
        "      ### This call will pull prices by the minute\n",
        "      data = getLatestRow(tickers, '1', 7, 21)\n",
        "      for x in range(len(data)):\n",
        "        name = data[x][1]\n",
        "        t = data[x][0].get('t')[-1]\n",
        "        o = data[x][0].get('o')[-1]\n",
        "        h = data[x][0].get('h')[-1]\n",
        "        l = data[x][0].get('l')[-1]\n",
        "        c = data[x][0].get('c')[-1]\n",
        "        rsi = data[x][0].get('rsi')[-1]\n",
        "        adx = data[x][0].get('adx')[-1]\n",
        "        sma20 = data[x][0].get('sma20')[-1]\n",
        "        sma200 = data[x][0].get('sma200')[-1]\n",
        "        rangeScore = data[x][0].get('rangescore')[-1]\n",
        "        ###Check for double peak (bearish)\n",
        "        if double_peak(data[x][0].get('c'), 60, 0.1):\n",
        "          send_message('{name} DOUBLE PEAK', url)\n",
        "        ###\n",
        "        if rsi < rsiScore:\n",
        "          if sma20 > sma200:\n",
        "            stock = ['B', name, c, t, tradeID]\n",
        "            send_message(f'Buy {name} at {c}.           ID: {tradeID}', url)\n",
        "            trades.append(stock)\n",
        "            tradeID += 1\n",
        "        ### SEll SIGNAL\n",
        "        if len(trades) > 0:\n",
        "          for y in trades:\n",
        "            if y[0] == 'B':\n",
        "              if name == y[1]:\n",
        "                last_c = y[2]\n",
        "                change = (c - last_c) / last_c\n",
        "                if change >= sell:\n",
        "                  send_message(f'Sell {name} at {c}.           ID: {y[4]}', url)\n",
        "                  stock = ['S', name, c, t, y[4]]\n",
        "                  trades.append(stock)\n",
        "        ###\n",
        "                 ### STOP LOSS\n",
        "                elif change <= stop:\n",
        "                  send_message(f'[STOP LOSS] Sell {name} at {c}           ID: {y[4]}', url)\n",
        "                  stock = ['SL', name, c, t, y[4]] \n",
        "                  trades.append(stock)\n",
        "                ###\n",
        "      time.sleep(90)\n",
        "    except KeyboardInterrupt:\n",
        "      send_message('BOT IS NOW OFF', url)\n",
        "      return trades\n",
        "\n",
        "tickers = ['SPY']\n",
        "#liveDayTrader(tickers, 38, 20, 0.29, 0.01, -0.5)"
      ]
    },
    {
      "cell_type": "markdown",
      "metadata": {
        "id": "j6FRtU8UKMW0"
      },
      "source": [
        "#RSI ALGO"
      ]
    },
    {
      "cell_type": "code",
      "execution_count": null,
      "metadata": {
        "id": "pLwFoSJ_KKD0"
      },
      "outputs": [],
      "source": [
        "###Live Discord Based Algorithm\n",
        "\n",
        "def rsi_ALGO(tickers,rsi):\n",
        "  run = True\n",
        "  trades = []\n",
        "  url = 'https://discord.com/api/webhooks/1044794416080093184/SJLr28athMuTwB2b8iv7_cLyqEP4KoiB3fBFHwEzy0NDGBN2DKnkdFpmwRbXIfdT8HYV'\n",
        "  send_message('BOT IS NOW LIVE', url)\n",
        "  tradeID = 1\n",
        "  while run:\n",
        "    try:\n",
        "      ### This call will pull prices by the minute\n",
        "      data = getLatestRow(tickers, '1', 7, 21)\n",
        "      for x in range(len(data)):\n",
        "        name = data[x][1]\n",
        "        t = data[x][0].get('t')[-1]\n",
        "        c = data[x][0].get('c')[-1]\n",
        "        rsi = data[x][0].get('rsi')[-1]\n",
        "        if rsi <= rsi:\n",
        "          send_message(f\"Buy {name} at {c}.\",url)\n",
        "          stock = ['B', name, c, t, tradeID, rsi]\n",
        "          trades.append(stock)\n",
        "          tradeID += 1\n",
        "        ###Sell Criteria\n",
        "        if len(trades) > 0:\n",
        "          for trade in trades:\n",
        "            if trade[0] == 'B':\n",
        "              if name == trade[1]:\n",
        "                difference = (c - trade[2]) / trade[2]\n",
        "                if difference >= 0.01:\n",
        "                  send_message(f\"Sell {name} at {c}.\",url)\n",
        "                  stock = ['S', name, c, t, tradeID]\n",
        "                  trades.append(stock)\n",
        "      time.sleep(90)\n",
        "    except KeyboardInterrupt:\n",
        "      send_message('BOT IS NOW OFF', url)\n",
        "      return trades\n",
        "\n",
        "tickers = ['SPY']\n",
        "#rsi_ALGO(tickers, 38)"
      ]
    },
    {
      "cell_type": "markdown",
      "metadata": {
        "id": "aVUvWtr9s0DJ"
      },
      "source": [
        "# Algorithm Analysis Functions"
      ]
    },
    {
      "cell_type": "code",
      "execution_count": null,
      "metadata": {
        "id": "Adtupfmps-mE"
      },
      "outputs": [],
      "source": [
        "### Under development\n",
        "def getBadTrades(trades,tickers):\n",
        "  result = []\n",
        "  for item in range(len(trades)):\n",
        "    bad_trades = []\n",
        "    for trade in trades[item]:\n",
        "      ticker = tickers[item]\n",
        "      buy = trade[0]\n",
        "      sell = trade[1]\n",
        "      profit = sell - buy\n",
        "      index = trade[2] \n",
        "      if profit < 0:\n",
        "        badTrade = [ticker,buy,sell,profit,index]\n",
        "        bad_trades.append(badTrade)\n",
        "    result.append(bad_trades)\n",
        "  return result"
      ]
    },
    {
      "cell_type": "code",
      "execution_count": null,
      "metadata": {
        "id": "Igj5GSTnmReW"
      },
      "outputs": [],
      "source": [
        "### UNDER DEVELOPMENT\n",
        "def getGoodTrades(trades,tickers):\n",
        "  result = []\n",
        "  for item in range(len(trades)):\n",
        "    good_trades = []\n",
        "    for trade in trades[item]:\n",
        "      ticker = tickers[item]\n",
        "      buy = trade[0]\n",
        "      sell = trade[1]\n",
        "      profit = sell - buy\n",
        "      index = trade[2] \n",
        "      if profit > 0:\n",
        "        goodTrade = [ticker,buy,sell,profit,index]\n",
        "        good_trades.append(goodTrade)\n",
        "    result.append(good_trades)\n",
        "  return result"
      ]
    },
    {
      "cell_type": "code",
      "execution_count": null,
      "metadata": {
        "id": "vuaQ2AojSEOI"
      },
      "outputs": [],
      "source": [
        "def getStandardDeviation(df,buyIndex,u,trades,indicator):\n",
        "  sum = 0\n",
        "  for trade in df:\n",
        "    sum += (df[buyIndex][indicator] - u) ** 2\n",
        "  sum /= len(df)\n",
        "  result = math.sqrt(sum)\n",
        "  return result"
      ]
    },
    {
      "cell_type": "code",
      "execution_count": null,
      "metadata": {
        "id": "EpJbboBX0uL4"
      },
      "outputs": [],
      "source": [
        "### find the mean and standard deviation of a certain indicator \n",
        "def analyzeTrades(trades,tickers, indicator):\n",
        "  '''\n",
        "  ARGS: \n",
        "    indicator (string): indicator user wants to study. rsi, rangescore, or spreadratio.\n",
        "  '''\n",
        "  result = []\n",
        "  indicators = {'rsi': 6, 'rangescore': 12, 'spreadratio': 17}\n",
        "  for ticker in range(len(trades)):\n",
        "    filename = tickers[ticker] + 'stockData.csv'\n",
        "    df = pd.read_csv(filename)\n",
        "    if len(trades[ticker]) > 0:\n",
        "      mean = 0\n",
        "      n = len(trades[ticker])\n",
        "      for y in trades[ticker]:\n",
        "        buyIndex = y[4] \n",
        "        sellIndex = y[4] - 10\n",
        "        mean += df.values[buyIndex][indicators.get(indicator)]\n",
        "      mean /= n\n",
        "      std = getStandardDeviation(df.values, buyIndex, mean, trades, indicators.get(indicator))\n",
        "      data = [mean, std]\n",
        "      result.append(data)\n",
        "  return result"
      ]
    },
    {
      "cell_type": "code",
      "execution_count": null,
      "metadata": {
        "id": "aJBvQkbjSGpc"
      },
      "outputs": [],
      "source": [
        "def check_algo(trades,tickers):\n",
        "  total = 0\n",
        "  av_rate_of_success = 0\n",
        "  denominator = 0\n",
        "  totalTrades = 0\n",
        "  for trade in range(len(trades)):\n",
        "    if len(trades[trade]) > 0:\n",
        "      profit = 0\n",
        "      denominator += 1\n",
        "      good = 0\n",
        "      total_trades = len(trades[trade])\n",
        "      for x in trades[trade]:\n",
        "        buy = x[0]\n",
        "        sell = x[1]\n",
        "        index = x[2]\n",
        "        difference = sell - buy\n",
        "        profit += difference\n",
        "        total += difference \n",
        "        if difference >= 0:\n",
        "          good += 1 \n",
        "      ratio = good / total_trades\n",
        "      av_rate_of_success += ratio \n",
        "      totalTrades += total_trades\n",
        "  if denominator > 0:\n",
        "    av_rate_of_success /= denominator\n",
        "    return [total, av_rate_of_success, totalTrades]\n",
        "  else:\n",
        "    return [0,0]"
      ]
    },
    {
      "cell_type": "code",
      "execution_count": null,
      "metadata": {
        "id": "acOEj9sGbQlS"
      },
      "outputs": [],
      "source": [
        "### Returns most accurate numbers \n",
        "def analyzeAlgo(tickers):\n",
        "  result = []\n",
        "  cross_symbol = 'golden cross'\n",
        "  highProfit = 0\n",
        "  highRate = 0\n",
        "  adxScore = 20\n",
        "  for x in range(30):\n",
        "    timeperiod = x +1\n",
        "    for i in range(10,40):\n",
        "      rsiScore = i + 1\n",
        "      range_score = 0\n",
        "      for u in range(40):\n",
        "        range_score += 0.01\n",
        "        trades = algoStructure(timeperiod,tickers,cross_symbol,rsiScore,range_score,adxScore)\n",
        "        if len(trades) > 0:\n",
        "          data = check_algo(trades,tickers)\n",
        "          profit = data[0]\n",
        "          successRate = data[1]\n",
        "          totalTrades = data[2]\n",
        "          if totalTrades >= 10 :\n",
        "            if profit > highProfit:\n",
        "                highProfit = profit\n",
        "                if successRate >= (highRate - 0.1):\n",
        "                  highRate = successRate\n",
        "                  rsi = rsiScore\n",
        "                  rangeScore = range_score\n",
        "                  timePeriod = timeperiod\n",
        "  result = [rsi,rangeScore,timePeriod]\n",
        "  return result\n"
      ]
    },
    {
      "cell_type": "markdown",
      "metadata": {
        "id": "-1MpfTJFrYO1"
      },
      "source": [
        "# RUN"
      ]
    },
    {
      "cell_type": "code",
      "execution_count": null,
      "metadata": {
        "id": "4fiDXsBES7dd"
      },
      "outputs": [],
      "source": [
        " ####### RUN OBSERVATIONS IN HERE ########\n",
        "###BELOW TICKERS ARE TAKEN FROM BERKSHIRE HATHAWAY HOLDINGS\n",
        "berkshireTickers = ['AAPL','BAC','KO','CVX','AXP','SPY']\n",
        "pelosiTickers = ['AAPL', 'MSFT', 'FB', 'AMZN']\n",
        "def get_csv(tickers):\n",
        "  data = getFinnhubData(tickers)\n",
        "  assembleCSV(data)\n",
        "\n",
        "def main(tickers):\n",
        "  get_csv(tickers)\n",
        "  trades = algo2(10,tickers,'golden cross',40,0.29,20)\n",
        "  trades1 = algo3(1,tickers,40)\n",
        "main(berkshireTickers)"
      ]
    },
    {
      "cell_type": "markdown",
      "metadata": {
        "id": "Qpg6u7yxzPJR"
      },
      "source": [
        "1.   Bollinger Bands \n",
        "2.   On-Balance Volume \n",
        ">>>Make a function that determines how many shares of a security to purchase based on indicators \n",
        "\n",
        "\n"
      ]
    }
  ],
  "metadata": {
    "colab": {
      "collapsed_sections": [
        "grGrnx-Fym_Y"
      ],
      "toc_visible": true,
      "provenance": []
    },
    "kernelspec": {
      "display_name": "Python 3",
      "name": "python3"
    },
    "language_info": {
      "name": "python"
    }
  },
  "nbformat": 4,
  "nbformat_minor": 0
}
